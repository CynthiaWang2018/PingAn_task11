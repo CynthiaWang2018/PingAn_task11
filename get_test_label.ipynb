{
 "cells": [
  {
   "cell_type": "code",
   "execution_count": 13,
   "metadata": {},
   "outputs": [],
   "source": [
    "import pandas as pd\n",
    "import numpy as np"
   ]
  },
  {
   "cell_type": "code",
   "execution_count": 14,
   "metadata": {},
   "outputs": [
    {
     "name": "stdout",
     "output_type": "stream",
     "text": [
      "          0         1         2         3         4         5         6  \\\n",
      "0  3.340594  0.000434  2.720928  4.408517  3.432302  9.481677  3.577184   \n",
      "1  2.770955  8.997431  7.173936  3.773383  7.378616  7.840147  8.979185   \n",
      "2  8.275599  6.714597  9.624436  0.856578  8.311163  9.188796  8.189455   \n",
      "3  0.723634  5.515918  9.401365  7.161248  1.250709  6.536091  1.035218   \n",
      "4  2.175709  9.530665  4.752073  1.585491  6.157041  3.044071  9.628096   \n",
      "\n",
      "          7         8         9  \n",
      "0  2.018318  1.663517  4.958070  \n",
      "1  6.380727  3.806432  7.261397  \n",
      "2  5.611096  0.685115  7.930753  \n",
      "3  1.579414  6.157523  3.458007  \n",
      "4  1.711489  6.915509  5.802961  \n",
      "          0         1         2\n",
      "0  6.559813  4.229264  6.387243\n",
      "1  8.800270  9.939308  7.340850\n",
      "2  7.828804  4.644677  1.380569\n",
      "3  9.852654  7.612537  1.701998\n",
      "4  6.884327  3.334372  1.696238\n",
      "     0\n",
      "0  0.0\n",
      "1  1.0\n",
      "2  0.0\n",
      "3  1.0\n",
      "4  0.0\n",
      "          0         1         2         3         4         5         6  \\\n",
      "0  7.849226  5.193785  5.040225  6.684869  8.818238  8.422230  0.150438   \n",
      "1  2.772126  9.298893  4.876048  2.322033  2.634193  9.260733  4.103466   \n",
      "2  2.960454  8.816064  5.548687  1.482685  1.700161  7.630998  6.889425   \n",
      "3  2.867519  3.526045  8.074662  4.133452  0.559901  3.694775  1.144089   \n",
      "4  4.036415  8.257289  8.914460  6.281944  2.178342  5.320246  0.175341   \n",
      "\n",
      "          7         8         9  \n",
      "0  6.265978  9.777858  9.122235  \n",
      "1  3.114357  9.370847  0.578084  \n",
      "2  8.763854  8.784842  3.450502  \n",
      "3  2.431403  2.013925  3.180586  \n",
      "4  8.753157  2.129637  8.827560  \n",
      "          0          1         2\n",
      "0  4.068304   3.580907  6.537658\n",
      "1  8.620949  10.198278  7.381193\n",
      "2  8.792419   9.121556  4.618635\n",
      "3  4.252003   8.800619  4.859410\n",
      "4  7.891031   0.198757  2.594720\n"
     ]
    }
   ],
   "source": [
    "train_para_ = pd.read_csv('./raw_dataset/train_para.csv', header=None)\n",
    "train_ques_ = pd.read_csv('./raw_dataset/train_ques.csv', header=None)\n",
    "train_label_ = pd.read_csv('./raw_dataset/train_label.csv', header=None)\n",
    "\n",
    "test_para_ = pd.read_csv('./test_para.csv', header=None)\n",
    "test_ques_ = pd.read_csv('./test_ques.csv', header=None)\n",
    "\n",
    "print(train_para_.head())\n",
    "print(train_ques_.head())\n",
    "print(train_label_.head())\n",
    "print(test_para_.head())\n",
    "print(test_ques_.head())"
   ]
  },
  {
   "cell_type": "code",
   "execution_count": 15,
   "metadata": {},
   "outputs": [
    {
     "ename": "TypeError",
     "evalue": "unhashable type: 'slice'",
     "output_type": "error",
     "traceback": [
      "\u001b[0;31m---------------------------------------------------------------------------\u001b[0m",
      "\u001b[0;31mTypeError\u001b[0m                                 Traceback (most recent call last)",
      "\u001b[0;32m<ipython-input-15-0a09dbeff4b8>\u001b[0m in \u001b[0;36m<module>\u001b[0;34m\u001b[0m\n\u001b[0;32m----> 1\u001b[0;31m \u001b[0mt_p\u001b[0m\u001b[0;34m,\u001b[0m \u001b[0mv_p\u001b[0m \u001b[0;34m=\u001b[0m \u001b[0mtrain_para_\u001b[0m\u001b[0;34m[\u001b[0m\u001b[0;34m:\u001b[0m\u001b[0;34m-\u001b[0m\u001b[0;36m3200\u001b[0m\u001b[0;34m,\u001b[0m\u001b[0;34m:\u001b[0m\u001b[0;34m]\u001b[0m\u001b[0;34m,\u001b[0m \u001b[0mtrain_para\u001b[0m\u001b[0;34m[\u001b[0m\u001b[0;34m-\u001b[0m\u001b[0;36m3200\u001b[0m\u001b[0;34m:\u001b[0m\u001b[0;34m,\u001b[0m\u001b[0;34m:\u001b[0m\u001b[0;34m]\u001b[0m\u001b[0;34m\u001b[0m\u001b[0m\n\u001b[0m",
      "\u001b[0;32m~/miniconda3/lib/python3.6/site-packages/pandas/core/frame.py\u001b[0m in \u001b[0;36m__getitem__\u001b[0;34m(self, key)\u001b[0m\n\u001b[1;32m   2686\u001b[0m             \u001b[0;32mreturn\u001b[0m \u001b[0mself\u001b[0m\u001b[0;34m.\u001b[0m\u001b[0m_getitem_multilevel\u001b[0m\u001b[0;34m(\u001b[0m\u001b[0mkey\u001b[0m\u001b[0;34m)\u001b[0m\u001b[0;34m\u001b[0m\u001b[0m\n\u001b[1;32m   2687\u001b[0m         \u001b[0;32melse\u001b[0m\u001b[0;34m:\u001b[0m\u001b[0;34m\u001b[0m\u001b[0m\n\u001b[0;32m-> 2688\u001b[0;31m             \u001b[0;32mreturn\u001b[0m \u001b[0mself\u001b[0m\u001b[0;34m.\u001b[0m\u001b[0m_getitem_column\u001b[0m\u001b[0;34m(\u001b[0m\u001b[0mkey\u001b[0m\u001b[0;34m)\u001b[0m\u001b[0;34m\u001b[0m\u001b[0m\n\u001b[0m\u001b[1;32m   2689\u001b[0m \u001b[0;34m\u001b[0m\u001b[0m\n\u001b[1;32m   2690\u001b[0m     \u001b[0;32mdef\u001b[0m \u001b[0m_getitem_column\u001b[0m\u001b[0;34m(\u001b[0m\u001b[0mself\u001b[0m\u001b[0;34m,\u001b[0m \u001b[0mkey\u001b[0m\u001b[0;34m)\u001b[0m\u001b[0;34m:\u001b[0m\u001b[0;34m\u001b[0m\u001b[0m\n",
      "\u001b[0;32m~/miniconda3/lib/python3.6/site-packages/pandas/core/frame.py\u001b[0m in \u001b[0;36m_getitem_column\u001b[0;34m(self, key)\u001b[0m\n\u001b[1;32m   2693\u001b[0m         \u001b[0;31m# get column\u001b[0m\u001b[0;34m\u001b[0m\u001b[0;34m\u001b[0m\u001b[0m\n\u001b[1;32m   2694\u001b[0m         \u001b[0;32mif\u001b[0m \u001b[0mself\u001b[0m\u001b[0;34m.\u001b[0m\u001b[0mcolumns\u001b[0m\u001b[0;34m.\u001b[0m\u001b[0mis_unique\u001b[0m\u001b[0;34m:\u001b[0m\u001b[0;34m\u001b[0m\u001b[0m\n\u001b[0;32m-> 2695\u001b[0;31m             \u001b[0;32mreturn\u001b[0m \u001b[0mself\u001b[0m\u001b[0;34m.\u001b[0m\u001b[0m_get_item_cache\u001b[0m\u001b[0;34m(\u001b[0m\u001b[0mkey\u001b[0m\u001b[0;34m)\u001b[0m\u001b[0;34m\u001b[0m\u001b[0m\n\u001b[0m\u001b[1;32m   2696\u001b[0m \u001b[0;34m\u001b[0m\u001b[0m\n\u001b[1;32m   2697\u001b[0m         \u001b[0;31m# duplicate columns & possible reduce dimensionality\u001b[0m\u001b[0;34m\u001b[0m\u001b[0;34m\u001b[0m\u001b[0m\n",
      "\u001b[0;32m~/miniconda3/lib/python3.6/site-packages/pandas/core/generic.py\u001b[0m in \u001b[0;36m_get_item_cache\u001b[0;34m(self, item)\u001b[0m\n\u001b[1;32m   2485\u001b[0m         \u001b[0;34m\"\"\"Return the cached item, item represents a label indexer.\"\"\"\u001b[0m\u001b[0;34m\u001b[0m\u001b[0m\n\u001b[1;32m   2486\u001b[0m         \u001b[0mcache\u001b[0m \u001b[0;34m=\u001b[0m \u001b[0mself\u001b[0m\u001b[0;34m.\u001b[0m\u001b[0m_item_cache\u001b[0m\u001b[0;34m\u001b[0m\u001b[0m\n\u001b[0;32m-> 2487\u001b[0;31m         \u001b[0mres\u001b[0m \u001b[0;34m=\u001b[0m \u001b[0mcache\u001b[0m\u001b[0;34m.\u001b[0m\u001b[0mget\u001b[0m\u001b[0;34m(\u001b[0m\u001b[0mitem\u001b[0m\u001b[0;34m)\u001b[0m\u001b[0;34m\u001b[0m\u001b[0m\n\u001b[0m\u001b[1;32m   2488\u001b[0m         \u001b[0;32mif\u001b[0m \u001b[0mres\u001b[0m \u001b[0;32mis\u001b[0m \u001b[0;32mNone\u001b[0m\u001b[0;34m:\u001b[0m\u001b[0;34m\u001b[0m\u001b[0m\n\u001b[1;32m   2489\u001b[0m             \u001b[0mvalues\u001b[0m \u001b[0;34m=\u001b[0m \u001b[0mself\u001b[0m\u001b[0;34m.\u001b[0m\u001b[0m_data\u001b[0m\u001b[0;34m.\u001b[0m\u001b[0mget\u001b[0m\u001b[0;34m(\u001b[0m\u001b[0mitem\u001b[0m\u001b[0;34m)\u001b[0m\u001b[0;34m\u001b[0m\u001b[0m\n",
      "\u001b[0;31mTypeError\u001b[0m: unhashable type: 'slice'"
     ]
    }
   ],
   "source": [
    "t_p, v_p = train_para_[:-3200,:], train_para[-3200:,:]"
   ]
  },
  {
   "cell_type": "code",
   "execution_count": 16,
   "metadata": {},
   "outputs": [
    {
     "name": "stdout",
     "output_type": "stream",
     "text": [
      "28800\n"
     ]
    },
    {
     "data": {
      "text/html": [
       "<div>\n",
       "<style scoped>\n",
       "    .dataframe tbody tr th:only-of-type {\n",
       "        vertical-align: middle;\n",
       "    }\n",
       "\n",
       "    .dataframe tbody tr th {\n",
       "        vertical-align: top;\n",
       "    }\n",
       "\n",
       "    .dataframe thead th {\n",
       "        text-align: right;\n",
       "    }\n",
       "</style>\n",
       "<table border=\"1\" class=\"dataframe\">\n",
       "  <thead>\n",
       "    <tr style=\"text-align: right;\">\n",
       "      <th></th>\n",
       "      <th>0</th>\n",
       "      <th>1</th>\n",
       "      <th>2</th>\n",
       "      <th>3</th>\n",
       "      <th>4</th>\n",
       "      <th>5</th>\n",
       "      <th>6</th>\n",
       "      <th>7</th>\n",
       "      <th>8</th>\n",
       "      <th>9</th>\n",
       "    </tr>\n",
       "  </thead>\n",
       "  <tbody>\n",
       "    <tr>\n",
       "      <th>0</th>\n",
       "      <td>3.340594</td>\n",
       "      <td>0.000434</td>\n",
       "      <td>2.720928</td>\n",
       "      <td>4.408517</td>\n",
       "      <td>3.432302</td>\n",
       "      <td>9.481677</td>\n",
       "      <td>3.577184</td>\n",
       "      <td>2.018318</td>\n",
       "      <td>1.663517</td>\n",
       "      <td>4.958070</td>\n",
       "    </tr>\n",
       "    <tr>\n",
       "      <th>1</th>\n",
       "      <td>2.770955</td>\n",
       "      <td>8.997431</td>\n",
       "      <td>7.173936</td>\n",
       "      <td>3.773383</td>\n",
       "      <td>7.378616</td>\n",
       "      <td>7.840147</td>\n",
       "      <td>8.979185</td>\n",
       "      <td>6.380727</td>\n",
       "      <td>3.806432</td>\n",
       "      <td>7.261397</td>\n",
       "    </tr>\n",
       "    <tr>\n",
       "      <th>2</th>\n",
       "      <td>8.275599</td>\n",
       "      <td>6.714597</td>\n",
       "      <td>9.624436</td>\n",
       "      <td>0.856578</td>\n",
       "      <td>8.311163</td>\n",
       "      <td>9.188796</td>\n",
       "      <td>8.189455</td>\n",
       "      <td>5.611096</td>\n",
       "      <td>0.685115</td>\n",
       "      <td>7.930753</td>\n",
       "    </tr>\n",
       "    <tr>\n",
       "      <th>3</th>\n",
       "      <td>0.723634</td>\n",
       "      <td>5.515918</td>\n",
       "      <td>9.401365</td>\n",
       "      <td>7.161248</td>\n",
       "      <td>1.250709</td>\n",
       "      <td>6.536091</td>\n",
       "      <td>1.035218</td>\n",
       "      <td>1.579414</td>\n",
       "      <td>6.157523</td>\n",
       "      <td>3.458007</td>\n",
       "    </tr>\n",
       "    <tr>\n",
       "      <th>4</th>\n",
       "      <td>2.175709</td>\n",
       "      <td>9.530665</td>\n",
       "      <td>4.752073</td>\n",
       "      <td>1.585491</td>\n",
       "      <td>6.157041</td>\n",
       "      <td>3.044071</td>\n",
       "      <td>9.628096</td>\n",
       "      <td>1.711489</td>\n",
       "      <td>6.915509</td>\n",
       "      <td>5.802961</td>\n",
       "    </tr>\n",
       "  </tbody>\n",
       "</table>\n",
       "</div>"
      ],
      "text/plain": [
       "          0         1         2         3         4         5         6  \\\n",
       "0  3.340594  0.000434  2.720928  4.408517  3.432302  9.481677  3.577184   \n",
       "1  2.770955  8.997431  7.173936  3.773383  7.378616  7.840147  8.979185   \n",
       "2  8.275599  6.714597  9.624436  0.856578  8.311163  9.188796  8.189455   \n",
       "3  0.723634  5.515918  9.401365  7.161248  1.250709  6.536091  1.035218   \n",
       "4  2.175709  9.530665  4.752073  1.585491  6.157041  3.044071  9.628096   \n",
       "\n",
       "          7         8         9  \n",
       "0  2.018318  1.663517  4.958070  \n",
       "1  6.380727  3.806432  7.261397  \n",
       "2  5.611096  0.685115  7.930753  \n",
       "3  1.579414  6.157523  3.458007  \n",
       "4  1.711489  6.915509  5.802961  "
      ]
     },
     "execution_count": 16,
     "metadata": {},
     "output_type": "execute_result"
    }
   ],
   "source": [
    "v_p = train_para_.head(32000-3200)\n",
    "print(len(v_p))\n",
    "v_p.head()\n",
    "#v_p.to_csv('train_para.csv',header=None, index=None)\n",
    "#v_p = pd.read_csv('train_para.csv', header=None)\n",
    "#v_p.head()"
   ]
  },
  {
   "cell_type": "code",
   "execution_count": 17,
   "metadata": {},
   "outputs": [
    {
     "name": "stdout",
     "output_type": "stream",
     "text": [
      "28800\n"
     ]
    },
    {
     "data": {
      "text/html": [
       "<div>\n",
       "<style scoped>\n",
       "    .dataframe tbody tr th:only-of-type {\n",
       "        vertical-align: middle;\n",
       "    }\n",
       "\n",
       "    .dataframe tbody tr th {\n",
       "        vertical-align: top;\n",
       "    }\n",
       "\n",
       "    .dataframe thead th {\n",
       "        text-align: right;\n",
       "    }\n",
       "</style>\n",
       "<table border=\"1\" class=\"dataframe\">\n",
       "  <thead>\n",
       "    <tr style=\"text-align: right;\">\n",
       "      <th></th>\n",
       "      <th>0</th>\n",
       "      <th>1</th>\n",
       "      <th>2</th>\n",
       "    </tr>\n",
       "  </thead>\n",
       "  <tbody>\n",
       "    <tr>\n",
       "      <th>0</th>\n",
       "      <td>6.559813</td>\n",
       "      <td>4.229264</td>\n",
       "      <td>6.387243</td>\n",
       "    </tr>\n",
       "    <tr>\n",
       "      <th>1</th>\n",
       "      <td>8.800270</td>\n",
       "      <td>9.939308</td>\n",
       "      <td>7.340850</td>\n",
       "    </tr>\n",
       "    <tr>\n",
       "      <th>2</th>\n",
       "      <td>7.828804</td>\n",
       "      <td>4.644677</td>\n",
       "      <td>1.380569</td>\n",
       "    </tr>\n",
       "    <tr>\n",
       "      <th>3</th>\n",
       "      <td>9.852654</td>\n",
       "      <td>7.612537</td>\n",
       "      <td>1.701998</td>\n",
       "    </tr>\n",
       "    <tr>\n",
       "      <th>4</th>\n",
       "      <td>6.884327</td>\n",
       "      <td>3.334372</td>\n",
       "      <td>1.696238</td>\n",
       "    </tr>\n",
       "  </tbody>\n",
       "</table>\n",
       "</div>"
      ],
      "text/plain": [
       "          0         1         2\n",
       "0  6.559813  4.229264  6.387243\n",
       "1  8.800270  9.939308  7.340850\n",
       "2  7.828804  4.644677  1.380569\n",
       "3  9.852654  7.612537  1.701998\n",
       "4  6.884327  3.334372  1.696238"
      ]
     },
     "execution_count": 17,
     "metadata": {},
     "output_type": "execute_result"
    }
   ],
   "source": [
    "v_p = train_ques_.head(32000-3200)\n",
    "print(len(v_p))\n",
    "v_p.head()\n",
    "# v_p.to_csv('train_ques.csv', header=None, index=None)\n",
    "# v_p = pd.read_csv('train_ques.csv', header=None)\n",
    "# v_p.head()"
   ]
  },
  {
   "cell_type": "code",
   "execution_count": 18,
   "metadata": {},
   "outputs": [
    {
     "name": "stdout",
     "output_type": "stream",
     "text": [
      "28800\n"
     ]
    },
    {
     "data": {
      "text/html": [
       "<div>\n",
       "<style scoped>\n",
       "    .dataframe tbody tr th:only-of-type {\n",
       "        vertical-align: middle;\n",
       "    }\n",
       "\n",
       "    .dataframe tbody tr th {\n",
       "        vertical-align: top;\n",
       "    }\n",
       "\n",
       "    .dataframe thead th {\n",
       "        text-align: right;\n",
       "    }\n",
       "</style>\n",
       "<table border=\"1\" class=\"dataframe\">\n",
       "  <thead>\n",
       "    <tr style=\"text-align: right;\">\n",
       "      <th></th>\n",
       "      <th>0</th>\n",
       "    </tr>\n",
       "  </thead>\n",
       "  <tbody>\n",
       "    <tr>\n",
       "      <th>0</th>\n",
       "      <td>0.0</td>\n",
       "    </tr>\n",
       "    <tr>\n",
       "      <th>1</th>\n",
       "      <td>1.0</td>\n",
       "    </tr>\n",
       "    <tr>\n",
       "      <th>2</th>\n",
       "      <td>0.0</td>\n",
       "    </tr>\n",
       "    <tr>\n",
       "      <th>3</th>\n",
       "      <td>1.0</td>\n",
       "    </tr>\n",
       "    <tr>\n",
       "      <th>4</th>\n",
       "      <td>0.0</td>\n",
       "    </tr>\n",
       "  </tbody>\n",
       "</table>\n",
       "</div>"
      ],
      "text/plain": [
       "     0\n",
       "0  0.0\n",
       "1  1.0\n",
       "2  0.0\n",
       "3  1.0\n",
       "4  0.0"
      ]
     },
     "execution_count": 18,
     "metadata": {},
     "output_type": "execute_result"
    }
   ],
   "source": [
    "v_p = train_label_.head(32000-3200)\n",
    "print(len(v_p))\n",
    "v_p.head()\n",
    "#...\n",
    "#...\n",
    "#..."
   ]
  },
  {
   "cell_type": "code",
   "execution_count": 19,
   "metadata": {},
   "outputs": [
    {
     "data": {
      "text/html": [
       "<div>\n",
       "<style scoped>\n",
       "    .dataframe tbody tr th:only-of-type {\n",
       "        vertical-align: middle;\n",
       "    }\n",
       "\n",
       "    .dataframe tbody tr th {\n",
       "        vertical-align: top;\n",
       "    }\n",
       "\n",
       "    .dataframe thead th {\n",
       "        text-align: right;\n",
       "    }\n",
       "</style>\n",
       "<table border=\"1\" class=\"dataframe\">\n",
       "  <thead>\n",
       "    <tr style=\"text-align: right;\">\n",
       "      <th></th>\n",
       "      <th>0</th>\n",
       "      <th>1</th>\n",
       "      <th>2</th>\n",
       "      <th>3</th>\n",
       "      <th>4</th>\n",
       "      <th>5</th>\n",
       "      <th>6</th>\n",
       "      <th>7</th>\n",
       "      <th>8</th>\n",
       "      <th>9</th>\n",
       "    </tr>\n",
       "  </thead>\n",
       "  <tbody>\n",
       "    <tr>\n",
       "      <th>28800</th>\n",
       "      <td>2.926270</td>\n",
       "      <td>6.917750</td>\n",
       "      <td>4.714107</td>\n",
       "      <td>1.433675</td>\n",
       "      <td>8.964988</td>\n",
       "      <td>0.648070</td>\n",
       "      <td>3.769303</td>\n",
       "      <td>4.256394</td>\n",
       "      <td>9.661645</td>\n",
       "      <td>2.547954</td>\n",
       "    </tr>\n",
       "    <tr>\n",
       "      <th>28801</th>\n",
       "      <td>4.651942</td>\n",
       "      <td>3.200172</td>\n",
       "      <td>5.421760</td>\n",
       "      <td>5.164606</td>\n",
       "      <td>3.705000</td>\n",
       "      <td>9.955713</td>\n",
       "      <td>7.182072</td>\n",
       "      <td>3.875201</td>\n",
       "      <td>8.857617</td>\n",
       "      <td>1.240602</td>\n",
       "    </tr>\n",
       "    <tr>\n",
       "      <th>28802</th>\n",
       "      <td>3.734706</td>\n",
       "      <td>7.847850</td>\n",
       "      <td>7.051035</td>\n",
       "      <td>1.849784</td>\n",
       "      <td>7.353614</td>\n",
       "      <td>2.237498</td>\n",
       "      <td>7.347745</td>\n",
       "      <td>2.971413</td>\n",
       "      <td>9.245838</td>\n",
       "      <td>5.838442</td>\n",
       "    </tr>\n",
       "    <tr>\n",
       "      <th>28803</th>\n",
       "      <td>2.762652</td>\n",
       "      <td>8.694539</td>\n",
       "      <td>4.459950</td>\n",
       "      <td>4.775556</td>\n",
       "      <td>9.209529</td>\n",
       "      <td>8.434784</td>\n",
       "      <td>7.814437</td>\n",
       "      <td>5.399543</td>\n",
       "      <td>8.081086</td>\n",
       "      <td>0.328737</td>\n",
       "    </tr>\n",
       "    <tr>\n",
       "      <th>28804</th>\n",
       "      <td>6.897748</td>\n",
       "      <td>0.479243</td>\n",
       "      <td>7.203528</td>\n",
       "      <td>7.103861</td>\n",
       "      <td>6.083043</td>\n",
       "      <td>0.896054</td>\n",
       "      <td>9.354666</td>\n",
       "      <td>6.769038</td>\n",
       "      <td>7.170491</td>\n",
       "      <td>1.709356</td>\n",
       "    </tr>\n",
       "  </tbody>\n",
       "</table>\n",
       "</div>"
      ],
      "text/plain": [
       "              0         1         2         3         4         5         6  \\\n",
       "28800  2.926270  6.917750  4.714107  1.433675  8.964988  0.648070  3.769303   \n",
       "28801  4.651942  3.200172  5.421760  5.164606  3.705000  9.955713  7.182072   \n",
       "28802  3.734706  7.847850  7.051035  1.849784  7.353614  2.237498  7.347745   \n",
       "28803  2.762652  8.694539  4.459950  4.775556  9.209529  8.434784  7.814437   \n",
       "28804  6.897748  0.479243  7.203528  7.103861  6.083043  0.896054  9.354666   \n",
       "\n",
       "              7         8         9  \n",
       "28800  4.256394  9.661645  2.547954  \n",
       "28801  3.875201  8.857617  1.240602  \n",
       "28802  2.971413  9.245838  5.838442  \n",
       "28803  5.399543  8.081086  0.328737  \n",
       "28804  6.769038  7.170491  1.709356  "
      ]
     },
     "execution_count": 19,
     "metadata": {},
     "output_type": "execute_result"
    }
   ],
   "source": [
    "v_p = train_para_.tail(3200)\n",
    "len(v_p)\n",
    "v_p.head()\n",
    "#...\n",
    "#...\n",
    "#..."
   ]
  },
  {
   "cell_type": "code",
   "execution_count": 20,
   "metadata": {},
   "outputs": [
    {
     "data": {
      "text/html": [
       "<div>\n",
       "<style scoped>\n",
       "    .dataframe tbody tr th:only-of-type {\n",
       "        vertical-align: middle;\n",
       "    }\n",
       "\n",
       "    .dataframe tbody tr th {\n",
       "        vertical-align: top;\n",
       "    }\n",
       "\n",
       "    .dataframe thead th {\n",
       "        text-align: right;\n",
       "    }\n",
       "</style>\n",
       "<table border=\"1\" class=\"dataframe\">\n",
       "  <thead>\n",
       "    <tr style=\"text-align: right;\">\n",
       "      <th></th>\n",
       "      <th>0</th>\n",
       "      <th>1</th>\n",
       "      <th>2</th>\n",
       "    </tr>\n",
       "  </thead>\n",
       "  <tbody>\n",
       "    <tr>\n",
       "      <th>28800</th>\n",
       "      <td>2.253285</td>\n",
       "      <td>0.349205</td>\n",
       "      <td>9.695214</td>\n",
       "    </tr>\n",
       "    <tr>\n",
       "      <th>28801</th>\n",
       "      <td>3.109855</td>\n",
       "      <td>1.325272</td>\n",
       "      <td>9.121063</td>\n",
       "    </tr>\n",
       "    <tr>\n",
       "      <th>28802</th>\n",
       "      <td>6.300726</td>\n",
       "      <td>6.220712</td>\n",
       "      <td>9.315506</td>\n",
       "    </tr>\n",
       "    <tr>\n",
       "      <th>28803</th>\n",
       "      <td>2.881694</td>\n",
       "      <td>7.713610</td>\n",
       "      <td>1.792259</td>\n",
       "    </tr>\n",
       "    <tr>\n",
       "      <th>28804</th>\n",
       "      <td>1.347753</td>\n",
       "      <td>8.072038</td>\n",
       "      <td>7.972371</td>\n",
       "    </tr>\n",
       "  </tbody>\n",
       "</table>\n",
       "</div>"
      ],
      "text/plain": [
       "              0         1         2\n",
       "28800  2.253285  0.349205  9.695214\n",
       "28801  3.109855  1.325272  9.121063\n",
       "28802  6.300726  6.220712  9.315506\n",
       "28803  2.881694  7.713610  1.792259\n",
       "28804  1.347753  8.072038  7.972371"
      ]
     },
     "execution_count": 20,
     "metadata": {},
     "output_type": "execute_result"
    }
   ],
   "source": [
    "v_p = train_ques_.tail(3200)\n",
    "len(v_p)\n",
    "v_p.head()\n",
    "#...\n",
    "#...\n",
    "#..."
   ]
  },
  {
   "cell_type": "code",
   "execution_count": 21,
   "metadata": {},
   "outputs": [
    {
     "data": {
      "text/html": [
       "<div>\n",
       "<style scoped>\n",
       "    .dataframe tbody tr th:only-of-type {\n",
       "        vertical-align: middle;\n",
       "    }\n",
       "\n",
       "    .dataframe tbody tr th {\n",
       "        vertical-align: top;\n",
       "    }\n",
       "\n",
       "    .dataframe thead th {\n",
       "        text-align: right;\n",
       "    }\n",
       "</style>\n",
       "<table border=\"1\" class=\"dataframe\">\n",
       "  <thead>\n",
       "    <tr style=\"text-align: right;\">\n",
       "      <th></th>\n",
       "      <th>0</th>\n",
       "    </tr>\n",
       "  </thead>\n",
       "  <tbody>\n",
       "    <tr>\n",
       "      <th>28800</th>\n",
       "      <td>0.0</td>\n",
       "    </tr>\n",
       "    <tr>\n",
       "      <th>28801</th>\n",
       "      <td>0.0</td>\n",
       "    </tr>\n",
       "    <tr>\n",
       "      <th>28802</th>\n",
       "      <td>0.0</td>\n",
       "    </tr>\n",
       "    <tr>\n",
       "      <th>28803</th>\n",
       "      <td>0.0</td>\n",
       "    </tr>\n",
       "    <tr>\n",
       "      <th>28804</th>\n",
       "      <td>1.0</td>\n",
       "    </tr>\n",
       "  </tbody>\n",
       "</table>\n",
       "</div>"
      ],
      "text/plain": [
       "         0\n",
       "28800  0.0\n",
       "28801  0.0\n",
       "28802  0.0\n",
       "28803  0.0\n",
       "28804  1.0"
      ]
     },
     "execution_count": 21,
     "metadata": {},
     "output_type": "execute_result"
    }
   ],
   "source": [
    "v_p = train_label_.tail(3200)\n",
    "len(v_p)\n",
    "v_p.head()\n",
    "#...\n",
    "#...\n",
    "#..."
   ]
  },
  {
   "cell_type": "code",
   "execution_count": 22,
   "metadata": {},
   "outputs": [
    {
     "data": {
      "text/plain": [
       "array([[  3.34059416e+00,   4.34353086e-04,   2.72092850e+00, ...,\n",
       "          2.01831788e+00,   1.66351666e+00,   4.95806983e+00],\n",
       "       [  2.77095535e+00,   8.99743126e+00,   7.17393616e+00, ...,\n",
       "          6.38072710e+00,   3.80643220e+00,   7.26139651e+00],\n",
       "       [  8.27559933e+00,   6.71459698e+00,   9.62443554e+00, ...,\n",
       "          5.61109604e+00,   6.85115107e-01,   7.93075298e+00],\n",
       "       ..., \n",
       "       [  7.90588609e+00,   2.00123633e+00,   2.80412537e+00, ...,\n",
       "          5.31059394e+00,   1.33666814e-01,   8.34414473e+00],\n",
       "       [  5.59578488e+00,   5.23561951e+00,   2.83417687e+00, ...,\n",
       "          3.60652166e+00,   6.22736285e+00,   1.82773807e+00],\n",
       "       [  7.71166865e+00,   5.02963421e+00,   3.66627131e+00, ...,\n",
       "          3.85540363e+00,   2.95236061e+00,   3.00873782e+00]])"
      ]
     },
     "execution_count": 22,
     "metadata": {},
     "output_type": "execute_result"
    }
   ],
   "source": [
    "train_para = train_para_.values\n",
    "train_para"
   ]
  },
  {
   "cell_type": "code",
   "execution_count": 24,
   "metadata": {},
   "outputs": [
    {
     "data": {
      "text/plain": [
       "array([[ 6.55981252,  4.22926377,  6.38724347],\n",
       "       [ 8.80026968,  9.93930839,  7.34085024],\n",
       "       [ 7.82880399,  4.64467727,  1.38056938],\n",
       "       ..., \n",
       "       [ 4.44990197,  4.75346386,  5.27605263],\n",
       "       [ 4.32370964,  2.80831172,  1.34810197],\n",
       "       [ 8.0672774 ,  7.27933267,  4.90093871]])"
      ]
     },
     "execution_count": 24,
     "metadata": {},
     "output_type": "execute_result"
    }
   ],
   "source": [
    "train_ques = train_ques_.values\n",
    "train_ques"
   ]
  },
  {
   "cell_type": "code",
   "execution_count": 25,
   "metadata": {},
   "outputs": [
    {
     "data": {
      "text/plain": [
       "array([[ 0.],\n",
       "       [ 1.],\n",
       "       [ 0.],\n",
       "       ..., \n",
       "       [ 0.],\n",
       "       [ 0.],\n",
       "       [ 0.]])"
      ]
     },
     "execution_count": 25,
     "metadata": {},
     "output_type": "execute_result"
    }
   ],
   "source": [
    "train_label = train_label_.values\n",
    "train_label"
   ]
  },
  {
   "cell_type": "code",
   "execution_count": 27,
   "metadata": {},
   "outputs": [
    {
     "data": {
      "text/plain": [
       "array([[ 7.84922581,  5.19378499,  5.04022455, ...,  6.26597817,\n",
       "         9.77785774,  9.12223533],\n",
       "       [ 2.77212571,  9.29889303,  4.87604831, ...,  3.11435685,\n",
       "         9.37084746,  0.57808354],\n",
       "       [ 2.96045434,  8.81606422,  5.54868724, ...,  8.76385398,\n",
       "         8.78484201,  3.45050231],\n",
       "       ..., \n",
       "       [ 7.00457453,  8.55319134,  7.38849296, ...,  6.50133885,\n",
       "         7.40469989,  9.809315  ],\n",
       "       [ 6.70391412,  6.11142894,  9.89939431, ...,  3.16122062,\n",
       "         9.27841241,  1.35694589],\n",
       "       [ 9.99811809,  9.79471676,  0.87324075, ...,  9.45370523,\n",
       "         5.46666133,  0.33160126]])"
      ]
     },
     "execution_count": 27,
     "metadata": {},
     "output_type": "execute_result"
    }
   ],
   "source": [
    "test_para = test_para_.values\n",
    "test_para"
   ]
  },
  {
   "cell_type": "code",
   "execution_count": 29,
   "metadata": {},
   "outputs": [
    {
     "data": {
      "text/plain": [
       "array([[  4.06830382,   3.58090738,   6.53765827],\n",
       "       [  8.62094869,  10.19827793,   7.38119322],\n",
       "       [  8.79241876,   9.12155586,   4.61863478],\n",
       "       ..., \n",
       "       [  7.7701379 ,   2.97736233,   3.92438312],\n",
       "       [  7.24587313,  10.62806032,   5.62625953],\n",
       "       [  5.20812934,   4.41953515,   8.46668749]])"
      ]
     },
     "execution_count": 29,
     "metadata": {},
     "output_type": "execute_result"
    }
   ],
   "source": [
    "test_ques = test_ques_.values\n",
    "test_ques"
   ]
  },
  {
   "cell_type": "code",
   "execution_count": 30,
   "metadata": {},
   "outputs": [
    {
     "name": "stdout",
     "output_type": "stream",
     "text": [
      "(32000, 1)\n"
     ]
    }
   ],
   "source": [
    "print(train_label.shape)"
   ]
  },
  {
   "cell_type": "code",
   "execution_count": 32,
   "metadata": {},
   "outputs": [
    {
     "data": {
      "text/plain": [
       "True"
      ]
     },
     "execution_count": 32,
     "metadata": {},
     "output_type": "execute_result"
    }
   ],
   "source": [
    "def isclose(a, b, rel_tol=1e-9, abs_tol=0.0):\n",
    "    return abs(a-b) <= max(rel_tol*max(abs(a), abs(b)), abs_tol)\n",
    "\n",
    "def IsEqual(a, b ,c):\n",
    "    return isclose(a, b) and isclose(a, c)\n",
    "IsEqual(1, 1, 1)"
   ]
  },
  {
   "cell_type": "code",
   "execution_count": 33,
   "metadata": {},
   "outputs": [],
   "source": [
    "def IsAnswer(p, q):\n",
    "    Flag = 0\n",
    "    for i in range(8):\n",
    "        if IsEqual(p[i]-q[0], p[i+1]-q[1], p[i+2]-q[2]):\n",
    "            Flag = 1\n",
    "            return 1.0\n",
    "    if Flag is 0:\n",
    "        return 0.0"
   ]
  },
  {
   "cell_type": "code",
   "execution_count": 34,
   "metadata": {},
   "outputs": [],
   "source": [
    "pred_label = []\n",
    "for i in range(train_para.shape[0]):\n",
    "    para = train_para[i]\n",
    "    ques = train_para[i]\n",
    "    label = train_label[i]\n",
    "    pred_label.append(IsAnswer(para, ques))"
   ]
  },
  {
   "cell_type": "code",
   "execution_count": 35,
   "metadata": {},
   "outputs": [
    {
     "data": {
      "text/plain": [
       "array([[    0],\n",
       "       [    2],\n",
       "       [    4],\n",
       "       ..., \n",
       "       [31997],\n",
       "       [31998],\n",
       "       [31999]])"
      ]
     },
     "execution_count": 35,
     "metadata": {},
     "output_type": "execute_result"
    }
   ],
   "source": [
    "np.argwhere(np.array(pred_label) - train_label.reshape(-1))"
   ]
  },
  {
   "cell_type": "code",
   "execution_count": 36,
   "metadata": {},
   "outputs": [],
   "source": [
    "pred_label = []\n",
    "for i in range(test_para.shape[0]):\n",
    "    para = test_para[i]\n",
    "    ques = test_ques[i]\n",
    "    pred_label.append(IsAnswer(para, ques))"
   ]
  },
  {
   "cell_type": "code",
   "execution_count": 37,
   "metadata": {},
   "outputs": [
    {
     "data": {
      "text/html": [
       "<div>\n",
       "<style scoped>\n",
       "    .dataframe tbody tr th:only-of-type {\n",
       "        vertical-align: middle;\n",
       "    }\n",
       "\n",
       "    .dataframe tbody tr th {\n",
       "        vertical-align: top;\n",
       "    }\n",
       "\n",
       "    .dataframe thead th {\n",
       "        text-align: right;\n",
       "    }\n",
       "</style>\n",
       "<table border=\"1\" class=\"dataframe\">\n",
       "  <thead>\n",
       "    <tr style=\"text-align: right;\">\n",
       "      <th></th>\n",
       "      <th>pred</th>\n",
       "    </tr>\n",
       "  </thead>\n",
       "  <tbody>\n",
       "    <tr>\n",
       "      <th>0</th>\n",
       "      <td>0.0</td>\n",
       "    </tr>\n",
       "    <tr>\n",
       "      <th>1</th>\n",
       "      <td>0.0</td>\n",
       "    </tr>\n",
       "    <tr>\n",
       "      <th>2</th>\n",
       "      <td>0.0</td>\n",
       "    </tr>\n",
       "    <tr>\n",
       "      <th>3</th>\n",
       "      <td>1.0</td>\n",
       "    </tr>\n",
       "    <tr>\n",
       "      <th>4</th>\n",
       "      <td>0.0</td>\n",
       "    </tr>\n",
       "  </tbody>\n",
       "</table>\n",
       "</div>"
      ],
      "text/plain": [
       "   pred\n",
       "0   0.0\n",
       "1   0.0\n",
       "2   0.0\n",
       "3   1.0\n",
       "4   0.0"
      ]
     },
     "execution_count": 37,
     "metadata": {},
     "output_type": "execute_result"
    }
   ],
   "source": [
    "df = pd.DataFrame({'pred': pred_label})\n",
    "df.head()"
   ]
  },
  {
   "cell_type": "code",
   "execution_count": 38,
   "metadata": {},
   "outputs": [],
   "source": [
    "# df.to_csv('test_pred.csv', header=None, index=None)\n",
    "# test_pred = pd.read_csv('test_pred.csv', header=None)\n",
    "# test_pred.head()"
   ]
  },
  {
   "cell_type": "code",
   "execution_count": null,
   "metadata": {},
   "outputs": [],
   "source": []
  }
 ],
 "metadata": {
  "kernelspec": {
   "display_name": "Python 3",
   "language": "python",
   "name": "python3"
  },
  "language_info": {
   "codemirror_mode": {
    "name": "ipython",
    "version": 3
   },
   "file_extension": ".py",
   "mimetype": "text/x-python",
   "name": "python",
   "nbconvert_exporter": "python",
   "pygments_lexer": "ipython3",
   "version": "3.6.6"
  }
 },
 "nbformat": 4,
 "nbformat_minor": 2
}
